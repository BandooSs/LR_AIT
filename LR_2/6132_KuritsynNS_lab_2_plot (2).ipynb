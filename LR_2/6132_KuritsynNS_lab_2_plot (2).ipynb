{
 "cells": [
  {
   "cell_type": "markdown",
   "id": "facf3253-1bf0-4178-bfb3-ddd59f9f6c88",
   "metadata": {},
   "source": [
    "6132 Курицын Никита  \n",
    "Лабораторная работа №2: Визуализация данных"
   ]
  },
  {
   "cell_type": "code",
   "execution_count": null,
   "id": "b631a5bb-66aa-457b-8672-225b856d11ae",
   "metadata": {},
   "outputs": [],
   "source": [
    "import pandas as pd"
   ]
  },
  {
   "cell_type": "code",
   "execution_count": null,
   "id": "8a5cafce-126f-4acb-84e3-18afa13a1241",
   "metadata": {},
   "outputs": [],
   "source": [
    "data = pd.read_csv('star_classification.csv')# считываем с помощью метода read_csv и помещяем данные в data"
   ]
  },
  {
   "cell_type": "markdown",
   "id": "fbfd8526-3777-465e-8e33-d72632dd0acd",
   "metadata": {},
   "source": [
    "2. Привести описание датасета."
   ]
  },
  {
   "cell_type": "code",
   "execution_count": null,
   "id": "2f17572f-439f-42c1-81cb-a6ed3d0ab5f4",
   "metadata": {},
   "outputs": [],
   "source": [
    "description_list = [\n",
    "\"Идентификатор объекта, уникальное значение, определяющее объект в каталоге изображений, используемом CAS\",\n",
    " \"Прямое восхождение (на эпоху J2000)\",\n",
    " \"Склонение (на эпоху J2000)\",\n",
    " \"Ультрафиолетовый фильтр в фотометрической системе\",\n",
    " \"Зеленый фильтр в фотометрической системе\",\n",
    " \"Красный фильтр в фотометрической системе\",\n",
    " \"Ближний инфракрасный фильтр в фотометрической системе\",\n",
    " \"Инфракрасный фильтр в фотометрической системе\",\n",
    " \"Номер прогона, используемый для идентификации конкретного сканирования\",\n",
    " \"Номер повторного прогона, указывающий, как было обработано изображение\",\n",
    " \"Номер камеры для идентификации линии сканирования внутри прогона\",\n",
    " \"Номер поля для идентификации каждого поля\",\n",
    " \"Уникальный идентификатор, используемый для оптических спектроскопических объектов (это означает, что 2 разных наблюдения с одним и тем же spec_obj_ID должны иметь одинаковый класс вывода)\",\n",
    " \"Класс объекта (галактика, звезда или квазарный объект)\",\n",
    " \"Красное смещение на основе увеличения длины волны\",\n",
    " \"Идентификатор пластины, идентифицирующий каждую пластину в SDSS\",\n",
    " \"Измененная юлианская дата, используемая для указания времени съемки конкретных данных SDSS\",\n",
    " \"Идентификатор волокна, определяющий волокно, направившее свет на фокальную плоскость в каждом наблюдении\"\n",
    "]\n",
    "dtypes_column = data.dtypes\n",
    "df_info = pd.DataFrame({'Тип': dtypes_column, 'Описание': description_list})\n",
    "pd.set_option('display.max_colwidth', None)\n",
    "df_info"
   ]
  },
  {
   "cell_type": "code",
   "execution_count": null,
   "id": "bd4d3979-d7d9-44d3-83ba-8159a753f477",
   "metadata": {},
   "outputs": [],
   "source": [
    "data.head(3)"
   ]
  },
  {
   "cell_type": "code",
   "execution_count": null,
   "id": "051b82be-daf3-4e51-aa2c-fb38ce3ac88e",
   "metadata": {},
   "outputs": [],
   "source": [
    "data['field_ID'].value_counts()"
   ]
  },
  {
   "cell_type": "markdown",
   "id": "195dc62d-56a3-47df-98c0-6a78c9555a6b",
   "metadata": {},
   "source": [
    "3. `matplotlib`:  \n",
    "   - Построить несколько графиков разного вида с использованием `matplotlib`.  \n",
    "   - Построить несколько суб-графиков на одном графике используя `.subplot`.  \n",
    "   - Построить интерактивный график со слайдером.\n",
    "   \n",
    "   > - Графики должны быть разных видов.  \n",
    "   > - Хотя бы в одном графике необходимо подписать оси.  \n",
    "   > - Во всех графиках необходимо указать название.\n",
    "   > - Необязательно строить сложный и перегруженный информацией интерактивный график, достаточно одного-двух числовых признаков в разрезе другого признака, как минимум добавить слайдер (ползунок). Наличие других графических элементов управления (кнопки и т.п.) - опционально."
   ]
  },
  {
   "cell_type": "code",
   "execution_count": null,
   "id": "8481512d-4099-4524-9a21-8dcbe433b17b",
   "metadata": {},
   "outputs": [],
   "source": [
    "import matplotlib.pyplot as plt"
   ]
  },
  {
   "cell_type": "code",
   "execution_count": null,
   "id": "ad534ace-356d-45ca-9c5b-9745360f2d0c",
   "metadata": {},
   "outputs": [],
   "source": [
    "ra_values = data['alpha']\n",
    "plt.figure(figsize=(8, 6))\n",
    "plt.hist(ra_values, bins=30, color='skyblue', edgecolor='black')\n",
    "plt.title('Распределение Прямого восхождения (J2000)')\n",
    "plt.xlabel('Прямое восхождение')\n",
    "plt.ylabel('Частота')\n",
    "plt.grid(True)"
   ]
  },
  {
   "cell_type": "code",
   "execution_count": null,
   "id": "11554fbd-0c58-42e0-90a7-fa028509f784",
   "metadata": {},
   "outputs": [],
   "source": [
    "CAM_values = data['cam_col']\n",
    "plt.figure(figsize=(8, 6))\n",
    "plt.hist(CAM_values, bins=30, color='skyblue', edgecolor='black')\n",
    "plt.title('Кол-во объектов, снятых разными камерам')\n",
    "plt.xlabel('Номер камеры')\n",
    "plt.ylabel('Частота')\n",
    "plt.grid(True)"
   ]
  },
  {
   "cell_type": "code",
   "execution_count": null,
   "id": "4629670e-1346-4b68-8d76-e6e5b862a447",
   "metadata": {},
   "outputs": [],
   "source": [
    "fig, axes = plt.subplots(nrows=1, ncols=2, figsize=(12, 6))\n",
    "\n",
    "# Первый подграфик: Распределение Прямого восхождения\n",
    "axes[0].hist(ra_values, bins=30, color='skyblue', edgecolor='black')\n",
    "axes[0].set_title('Распределение Прямого восхождения')\n",
    "axes[0].set_xlabel('Прямое восхождение')\n",
    "axes[0].set_ylabel('Частота')\n",
    "axes[0].grid(True)\n",
    "\n",
    "# Второй подграфик: Распределение Склонения\n",
    "axes[1].hist(CAM_values, bins=30, color='salmon', edgecolor='black')\n",
    "axes[1].set_title('Кол-во объектов, снятых разными камерам')\n",
    "axes[1].set_xlabel('Номер камеры')\n",
    "axes[1].set_ylabel('Частота')\n",
    "axes[1].grid(True)\n",
    "\n",
    "# Размещение графиков\n",
    "plt.tight_layout()\n",
    "\n",
    "# Показываем график\n",
    "plt.show()"
   ]
  },
  {
   "cell_type": "code",
   "execution_count": null,
   "id": "0c2dcf9f-ae18-4701-9ab7-0afb59d6cb5f",
   "metadata": {},
   "outputs": [],
   "source": [
    "import plotly.express as px\n",
    "from plotly.subplots import make_subplots\n",
    "import plotly.graph_objects as go\n",
    "from plotly.offline import iplot, init_notebook_mode\n",
    "init_notebook_mode(connected=True)"
   ]
  },
  {
   "cell_type": "code",
   "execution_count": null,
   "id": "acd9db15-a489-433f-acb7-567b7369cad0",
   "metadata": {},
   "outputs": [],
   "source": [
    "grouped_data = data.groupby('class') \\\n",
    "    .agg({'cam_col' : 'count'\n",
    "          }) \\\n",
    "    .reset_index()\n",
    "numbers_col = ['cam_col_1_count', 'cam_col_2_count',\n",
    "           'cam_col_3_count', 'cam_col_4_count','cam_col_5_count',\n",
    "           'cam_col_6_count']"
   ]
  },
  {
   "cell_type": "code",
   "execution_count": null,
   "id": "f8367d43-24b4-4cb5-babb-5620985a6f1a",
   "metadata": {},
   "outputs": [],
   "source": [
    "grouped_data"
   ]
  },
  {
   "cell_type": "code",
   "execution_count": null,
   "id": "11f481ba-6578-453c-9dba-3ae70e26deda",
   "metadata": {},
   "outputs": [],
   "source": [
    "for index,numbers in enumerate(numbers_col):\n",
    "    grouped_data[numbers] = data[data['cam_col'] == index + 1].groupby('class').size().reset_index(drop=True)\n",
    "    grouped_data[numbers] = grouped_data[numbers] / grouped_data['cam_col'] * 100"
   ]
  },
  {
   "cell_type": "code",
   "execution_count": null,
   "id": "f9075807-85e0-4a7a-ab6a-0362edaf167d",
   "metadata": {},
   "outputs": [],
   "source": [
    "grouped_data"
   ]
  },
  {
   "cell_type": "code",
   "execution_count": null,
   "id": "84705bef-812f-4f18-b259-373b2104c9ef",
   "metadata": {},
   "outputs": [],
   "source": [
    "%matplotlib inline\n",
    "%matplotlib widget\n",
    "from ipywidgets import *\n",
    "import matplotlib as mpl\n",
    "import matplotlib.cm as cm\n",
    "import matplotlib.pyplot as plt\n",
    "from itertools import cycle\n",
    "\n",
    "from matplotlib.widgets import Slider, Button"
   ]
  },
  {
   "cell_type": "code",
   "execution_count": null,
   "id": "d0320e46-3253-42ba-ba96-2cb21c323574",
   "metadata": {},
   "outputs": [],
   "source": [
    "fig, ax = plt.subplots(figsize=(7, 7.5))\n",
    "\n",
    "r_GALAXY, _, _ = ax.hist(range(1, 7), bins=6, weights=list(grouped_data.iloc[0, -6:]), label='GALAXY', alpha=0.5)\n",
    "r_QSO, _, _ = ax.hist(range(1, 7), bins=6, weights=list(grouped_data.iloc[1, -6:]), label='QSO', alpha=0.15)\n",
    "r_STAR, _, _ = ax.hist(range(1, 7), bins=6, weights=list(grouped_data.iloc[2, -6:]), label='STAR', alpha=0.25)\n",
    "\n",
    "plt.xlabel(\"Класс камеры\")\n",
    "plt.ylabel(\"% класса\")\n",
    "plt.title(\"Распределение классов по камерам\")\n",
    "leg = ax.legend(loc ='right', bbox_to_anchor = (1.13, 0.5), fancybox=True, shadow=True)\n",
    "\n",
    "def update(class_index):\n",
    "    ax.clear()\n",
    "    df_copy = data.copy()\n",
    "    df_copy = df_copy[df_copy['cam_col']<=class_index]\n",
    "    grouped_data = df_copy.groupby('class') \\\n",
    "    .agg({'cam_col' : 'count'\n",
    "          }) \\\n",
    "    .reset_index()\n",
    "    \n",
    "    for index in range(class_index):\n",
    "        grouped_data[numbers_col[index]] = data[data['cam_col'] == index + 1].groupby('class').size().reset_index(drop=True)\n",
    "        grouped_data[numbers_col[index]] = grouped_data[numbers_col[index]] / grouped_data['cam_col'] * 100\n",
    "    print(grouped_data)\n",
    "    r_GALAXY, _, _ = ax.hist(range(1, class_index+1), bins=class_index, weights=list(grouped_data.iloc[0, -class_index:]), label='GALAXY', alpha=0.5)\n",
    "    r_QSO, _, _ = ax.hist(range(1, class_index+1), bins=class_index, weights=list(grouped_data.iloc[1, -class_index:]), label='QSO', alpha=0.15)\n",
    "    r_STAR, _, _ = ax.hist(range(1, class_index+1), bins=class_index, weights=list(grouped_data.iloc[2, -class_index:]), label='STAR', alpha=0.25)\n",
    "    \n",
    "    plt.xlabel(\"Класс камеры\")\n",
    "    plt.ylabel(\"% класса\")\n",
    "    plt.title(\"Распределение классов по камерам\")\n",
    "    leg = ax.legend(loc ='right', bbox_to_anchor = (1.13, 0.5), fancybox=True, shadow=True)\n",
    "        \n",
    "\n",
    "# Create slider\n",
    "interact(update, class_index=(1, 6, 1))\n"
   ]
  },
  {
   "cell_type": "markdown",
   "id": "759c7fd0-48d6-4524-bb52-80f6c67ff70f",
   "metadata": {},
   "source": [
    "4. `pandas`:  \n",
    "   - Построить три разных вида графиков с использованием `pandas.DataFrame.plot` / `Series.plot`.  \n",
    "   \n",
    "   > - Среди графиков должен присутствовать один `boxplot` (обязательно надо использовать параметр `by`, для исследования взаимосвязи числовой переменной и какой-либо другой).  \n",
    "   > - Графики должны быть построены как через методы `DataFrame`, так и через методы `Series`. То есть оба варианта нужно продемонстрировать.  "
   ]
  },
  {
   "cell_type": "code",
   "execution_count": null,
   "id": "e4abf238-c4a2-4b20-bd4b-4b5a79323a5a",
   "metadata": {},
   "outputs": [],
   "source": [
    "grouped_data.hist(figsize = (7.5,7.5))"
   ]
  },
  {
   "cell_type": "code",
   "execution_count": null,
   "id": "dddc56dc-6d9f-4d1f-be9b-cd57f5dfe7bc",
   "metadata": {},
   "outputs": [],
   "source": [
    "data.boxplot(column='alpha', by='class')\n",
    "plt.title('Средние значения по alpha')\n",
    "plt.xlabel('Класс')\n",
    "plt.ylabel('Среднее значение')\n",
    "plt.show()"
   ]
  },
  {
   "cell_type": "code",
   "execution_count": null,
   "id": "4030aa59-898d-49de-b7bc-5c0e7afdb593",
   "metadata": {},
   "outputs": [],
   "source": [
    "plt.figure(figsize=(8, 6))\n",
    "data_grouped = data.groupby('class')['alpha'].mean()\n",
    "data_grouped.plot(kind='bar', title='Средние значения по alpha', rot=0)\n",
    "plt.xlabel('Класс')\n",
    "plt.ylabel('Среднее значение')\n",
    "plt.show()"
   ]
  },
  {
   "cell_type": "markdown",
   "id": "a137ca4d-79b1-4916-bf21-cdad853f560e",
   "metadata": {},
   "source": [
    "5. `seaborn`:  \n",
    "   - Построить `.pairplot` на каком-либо наборе данных, проанализировать взаимосвязь набора числовых признаков.  \n",
    "   - Построить `.jointplot`, проанализировать взаимосвязь двух конкретных числовых признаков.  \n",
    "   - Построить `.boxplot` и/или `.violinplot` на каком-либо наборе данных, проанализировать числовой признак в разрезе категориального.  \n",
    "   - Построить график `.heatmap` попарной корреляции всех числовых признаков.  \n",
    "   \n",
    "     > Категориальные признаки необходимо убрать из датафрейма перед построением.  "
   ]
  },
  {
   "cell_type": "code",
   "execution_count": null,
   "id": "35aa4a30-73e0-4931-89b0-cebfbc2088c7",
   "metadata": {},
   "outputs": [],
   "source": [
    "import seaborn as sns"
   ]
  },
  {
   "cell_type": "code",
   "execution_count": null,
   "id": "bb9e1df8-ce65-4fa9-ac04-b69e085e1300",
   "metadata": {},
   "outputs": [],
   "source": [
    "\n",
    "# sns.pairplot(data)"
   ]
  },
  {
   "cell_type": "code",
   "execution_count": null,
   "id": "71d34a8b-48fd-41a3-bf9c-35b821e304a3",
   "metadata": {},
   "outputs": [],
   "source": [
    "data_seab = data.iloc[:100,:5]"
   ]
  },
  {
   "cell_type": "code",
   "execution_count": null,
   "id": "f12fdd71-c6a1-4a00-9960-51094f3f18d3",
   "metadata": {},
   "outputs": [],
   "source": [
    "data_seab"
   ]
  },
  {
   "cell_type": "code",
   "execution_count": null,
   "id": "0f46b188-0ea5-4ac4-95bb-ea09122c7266",
   "metadata": {},
   "outputs": [],
   "source": [
    "sns.pairplot(data_seab,height=1.5)"
   ]
  },
  {
   "cell_type": "code",
   "execution_count": null,
   "id": "8627353d-b11a-4e34-8b65-af353260d868",
   "metadata": {},
   "outputs": [],
   "source": [
    "sns.jointplot(x='alpha', y='delta', data=data_seab, kind='scatter')"
   ]
  },
  {
   "cell_type": "code",
   "execution_count": null,
   "id": "a693aa20-01c9-480d-a589-382b7ece058a",
   "metadata": {},
   "outputs": [],
   "source": [
    "plt.figure(figsize=(10, 5))\n",
    "sns.boxplot(x='class', y='alpha', data=data)"
   ]
  },
  {
   "cell_type": "code",
   "execution_count": null,
   "id": "57a8791b-cf9a-47e3-8d97-9133b08f42ae",
   "metadata": {},
   "outputs": [],
   "source": [
    "numerical_data = data.select_dtypes(include=['float64'])"
   ]
  },
  {
   "cell_type": "code",
   "execution_count": null,
   "id": "b2ba84f5-2ef5-417c-9692-8c3e66654c2e",
   "metadata": {},
   "outputs": [],
   "source": [
    "correlation_matrix = numerical_data.corr()\n",
    "plt.figure(figsize=(10, 8))\n",
    "sns.heatmap(correlation_matrix, annot=True, cmap='coolwarm', fmt=\".2f\", square=True)\n",
    "plt.title('Heatmap of Pairwise Correlation of Numerical Features')\n",
    "plt.show()"
   ]
  },
  {
   "cell_type": "markdown",
   "id": "bb306e0c-2a83-466c-8f72-fb02fa9bd6f7",
   "metadata": {},
   "source": [
    "6. `scipy.stats`:  \n",
    "   - Построить QQ-график (и гистограмму) для одного из числовых признаков с целью проверки на соответствие его распределения нормальному распределению. "
   ]
  },
  {
   "cell_type": "code",
   "execution_count": null,
   "id": "b81e1036-06a6-4763-9624-57f32238253b",
   "metadata": {},
   "outputs": [],
   "source": [
    "import scipy.stats as stats\n",
    "feature = numerical_data['delta']\n",
    "\n",
    "plt.figure(figsize=(10, 5))\n",
    "plt.subplot(1, 2, 1)\n",
    "plt.hist(feature, bins=20, density=True, color='skyblue', alpha=0.7)\n",
    "plt.title('Histogram of Total Bill')\n",
    "\n",
    "\n",
    "plt.subplot(1, 2, 2)\n",
    "stats.probplot(feature, dist=\"norm\", plot=plt)\n",
    "plt.title('QQ Plot of Total Bill')\n",
    "\n",
    "plt.tight_layout()\n",
    "plt.show()"
   ]
  },
  {
   "cell_type": "markdown",
   "id": "865e69b6-d911-4adf-a546-4ef606015f81",
   "metadata": {},
   "source": [
    "7. `plotly`:  \n",
    "   - Построить несколько графиков разного вида.  \n",
    "   - Построить несколько суб-графиков на одном графике.  \n",
    "   - Построить интерактивный график.  "
   ]
  },
  {
   "cell_type": "code",
   "execution_count": null,
   "id": "b244b58f-e2a7-43df-bc2d-4daeded47329",
   "metadata": {},
   "outputs": [],
   "source": [
    "import plotly.express as px\n",
    "import plotly.graph_objects as go"
   ]
  },
  {
   "cell_type": "code",
   "execution_count": null,
   "id": "28dbbf7a-290b-45ec-aa9b-166aef45a8e6",
   "metadata": {},
   "outputs": [],
   "source": [
    "numerical_data.columns"
   ]
  },
  {
   "cell_type": "code",
   "execution_count": null,
   "id": "c94b27c9-3cb2-4430-928b-426e91aebe7d",
   "metadata": {},
   "outputs": [],
   "source": [
    "scatter_fig = px.scatter(data_frame=numerical_data, x='alpha', y='delta', title='Alpha vs Delta')\n",
    "scatter_fig.show()"
   ]
  },
  {
   "cell_type": "code",
   "execution_count": null,
   "id": "02b7dbe2-a2e1-443f-a18d-8fa1f174a5ec",
   "metadata": {},
   "outputs": [],
   "source": [
    "fig = go.Figure(data=[go.Scatter3d(x=numerical_data['alpha'], y=numerical_data['delta'], z=numerical_data['u'], mode='markers')])\n",
    "fig.update_layout(scene=dict(xaxis_title='alpha', yaxis_title='delta', zaxis_title='u'), title='3D')\n",
    "fig.show()"
   ]
  },
  {
   "cell_type": "code",
   "execution_count": null,
   "id": "54688b33-8d1e-46f3-9ea5-0c6b63f2b1f3",
   "metadata": {},
   "outputs": [],
   "source": [
    "hist_fig = px.histogram(data_frame=numerical_data, x='r', title='Гистрограмма r')\n",
    "hist_fig.show()"
   ]
  },
  {
   "cell_type": "code",
   "execution_count": null,
   "id": "4e4e7e51-233a-44c9-82b3-d6907320d5ef",
   "metadata": {},
   "outputs": [],
   "source": []
  }
 ],
 "metadata": {
  "kernelspec": {
   "display_name": "Python 3 (ipykernel)",
   "language": "python",
   "name": "python3"
  },
  "language_info": {
   "codemirror_mode": {
    "name": "ipython",
    "version": 3
   },
   "file_extension": ".py",
   "mimetype": "text/x-python",
   "name": "python",
   "nbconvert_exporter": "python",
   "pygments_lexer": "ipython3",
   "version": "3.11.7"
  }
 },
 "nbformat": 4,
 "nbformat_minor": 5
}
